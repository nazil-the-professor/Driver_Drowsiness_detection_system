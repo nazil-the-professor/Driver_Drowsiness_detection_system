{
 "cells": [
  {
   "cell_type": "code",
   "execution_count": 1,
   "metadata": { 
    "colab": {
     "base_uri": "https://localhost:8080/"
    },
    "id": "cnDSOznn3hrv",
    "outputId": "ee716179-06db-42f0-f60b-59d31821e7c9"
   },
   "outputs": [
    {
     "name": "stdout",
     "output_type": "stream",
     "text": [
      "pygame 2.5.2 (SDL 2.28.3, Python 3.11.5)\n",
      "Hello from the pygame community. https://www.pygame.org/contribute.html\n"
     ]
    }
   ],
   "source": [
    "import cv2\n",
    "import tensorflow as tf\n",
    "from tensorflow.keras.models import load_model\n",
    "import numpy as np\n",
    "from pygame import mixer"
   ]
  },
  {
   "cell_type": "code",
   "execution_count": 3,
   "metadata": {},
   "outputs": [
    {
     "name": "stderr",
     "output_type": "stream",
     "text": [
      "WARNING:absl:Compiled the loaded model, but the compiled metrics have yet to be built. `model.compile_metrics` will be empty until you train or evaluate the model.\n",
      "WARNING:absl:Error in loading the saved optimizer state. As a result, your model is starting with a freshly initialized optimizer.\n"
     ]
    }
   ],
   "source": [
    "face_cascade = cv2.CascadeClassifier(cv2.data.haarcascades + \"haarcascade_frontalface_default.xml\")\n",
    "eye_cascade = cv2.CascadeClassifier(cv2.data.haarcascades + \"haarcascade_eye.xml\")\n",
    "model = load_model(r'C:\\Users\\nazil\\OneDrive\\Desktop\\Drowsiness_detection_system\\models\\h_model.h5')   "
   ]
  },
  {
   "cell_type": "code",
   "execution_count": 4,
   "metadata": {
    "colab": {
     "base_uri": "https://localhost:8080/"
    },
    "id": "617vdEu7ASkI",
    "outputId": "565efbd9-0fe1-4b57-f517-bf4009d515f0"
   },
   "outputs": [],
   "source": [
    "# !ls /dev/video*"
   ]
  },
  {
   "cell_type": "code",
   "execution_count": null,
   "metadata": {
    "id": "6y8BHMfODC7o"
   },
   "outputs": [],
   "source": [
    "# mixer.init()\n",
    "# sound= mixer.Sound(r'C:\\Users\\nazil\\Downloads\\models\\alarm.wav')\n",
    "# model = load_model('C:/Users/nazil/Downloads/models/h_model.h5')\n",
    "cap = cv2.VideoCapture(1)\n",
    "Score = 0\n",
    "while True:\n",
    "    ret, frame = cap.read()\n",
    "    height,width = frame.shape[0:2]\n",
    "    gray = cv2.cvtColor(frame, cv2.COLOR_BGR2GRAY)\n",
    "    faces= face_cascade.detectMultiScale(gray, scaleFactor= 1.2, minNeighbors=3)\n",
    "    eyes= eye_cascade.detectMultiScale(gray, scaleFactor= 1.1, minNeighbors=1)\n",
    "    \n",
    "    cv2.rectangle(frame, (0,height-50),(200,height),(0,0,0),thickness=cv2.FILLED)\n",
    "    \n",
    "    for (x,y,w,h) in faces:\n",
    "        cv2.rectangle(frame,pt1=(x,y),pt2=(x+w,y+h), color= (255,0,0), thickness=3)\n",
    "        \n",
    "    for (ex,ey,ew,eh) in eyes:\n",
    "        #cv2.rectangle(frame,pt1=(ex,ey),pt2=(ex+ew,ey+eh), color= (255,0,0), thickness=3)\n",
    "        \n",
    "        # preprocessing steps\n",
    "        eye= frame[ey:ey+eh,ex:ex+ew]\n",
    "        eye= cv2.resize(eye,(80,80))\n",
    "        eye= eye/255\n",
    "        eye= eye.reshape(80,80,3)\n",
    "        eye= np.expand_dims(eye,axis=0)\n",
    "        # preprocessing is done now model prediction\n",
    "        prediction = model.predict(eye)\n",
    "        print(prediction)\n",
    "        \n",
    "        # if eyes are closed\n",
    "        if prediction[0][0]>0.30:\n",
    "            cv2.putText(frame,'closed',(10,height-20),fontFace=cv2.FONT_HERSHEY_COMPLEX_SMALL,fontScale=1,color=(255,255,255),\n",
    "                       thickness=1,lineType=cv2.LINE_AA)\n",
    "            cv2.putText(frame,'Score'+str(Score),(100,height-20),fontFace=cv2.FONT_HERSHEY_COMPLEX_SMALL,fontScale=1,color=(255,255,255),\n",
    "                       thickness=1,lineType=cv2.LINE_AA)\n",
    "            Score=Score+1\n",
    "            if(Score>15):\n",
    "                try:\n",
    "                    sound.play()\n",
    "                except:\n",
    "                    pass\n",
    "            \n",
    "        # if eyes are open\n",
    "        elif prediction[0][1]>0.90:\n",
    "            cv2.putText(frame,'open',(10,height-20),fontFace=cv2.FONT_HERSHEY_COMPLEX_SMALL,fontScale=1,color=(255,255,255),\n",
    "                       thickness=1,lineType=cv2.LINE_AA)      \n",
    "            cv2.putText(frame,'Score'+str(Score),(100,height-20),fontFace=cv2.FONT_HERSHEY_COMPLEX_SMALL,fontScale=1,color=(255,255,255),\n",
    "                       thickness=1,lineType=cv2.LINE_AA)\n",
    "            Score = Score-1\n",
    "            if (Score<0):\n",
    "                Score=0\n",
    "            \n",
    "        \n",
    "    cv2.imshow('frame',frame)\n",
    "    if cv2.waitKey(33) & 0xFF==ord('q'):\n",
    "        break\n",
    "        \n",
    "cap.release()\n",
    "cv2.destroyAllWindows()"
   ]
  },
  {
   "cell_type": "code",
   "execution_count": null,
   "metadata": {
    "id": "-W5IQMisIWoW"
   },
   "outputs": [],
   "source": []
  },
  {
   "cell_type": "code",
   "execution_count": null,
   "metadata": {
    "id": "15_lHkplIcuF"
   },
   "outputs": [],
   "source": []
  }
 ],
 "metadata": {
  "accelerator": "GPU",
  "colab": {
   "gpuType": "T4",
   "provenance": []
  },
  "kernelspec": {
   "display_name": "Python 3 (ipykernel)",
   "language": "python",
   "name": "python3"
  },
  "language_info": {
   "codemirror_mode": {
    "name": "ipython",
    "version": 3
   },
   "file_extension": ".py",
   "mimetype": "text/x-python",
   "name": "python",
   "nbconvert_exporter": "python",
   "pygments_lexer": "ipython3",
   "version": "3.11.5"
  }
 },
 "nbformat": 4,
 "nbformat_minor": 1
}
